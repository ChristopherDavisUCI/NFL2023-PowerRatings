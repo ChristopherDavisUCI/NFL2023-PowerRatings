{
 "cells": [
  {
   "cell_type": "markdown",
   "id": "d12167af-054f-4ddc-abbe-2efced29dc52",
   "metadata": {},
   "source": [
    "# Getting point spreads from nflverse on GitHub\n",
    "\n",
    "This notebook shows how we got the look-ahead point spread values that were used in our power ratings calculation.\n",
    "\n",
    "By far the easiest way I know to get point spread data is to use the following file from nflverse on GitHub: [games.csv](https://github.com/nflverse/nfldata/blob/master/data/games.csv)."
   ]
  },
  {
   "cell_type": "code",
   "execution_count": 14,
   "id": "d1aad4dd-ffd2-4a51-84bb-6c08c5e14fda",
   "metadata": {},
   "outputs": [],
   "source": [
    "# for working with tabular data\n",
    "import pandas as pd"
   ]
  },
  {
   "cell_type": "markdown",
   "id": "d55155e7-10f2-4409-bd4c-f5dd3085759c",
   "metadata": {},
   "source": [
    "We will read in this file directly from GitHub, but another option would be to download the file and read it in locally."
   ]
  },
  {
   "cell_type": "code",
   "execution_count": 26,
   "id": "ac66045a-d85c-4561-bcc6-f444a24066d3",
   "metadata": {},
   "outputs": [],
   "source": [
    "# read directly from GitHub\n",
    "url = \"https://raw.githubusercontent.com/nflverse/nfldata/master/data/games.csv\"\n",
    "df_full = pd.read_csv(url)"
   ]
  },
  {
   "cell_type": "markdown",
   "id": "e3592b0a-1f02-4bb1-9bc6-b70b9a75bc53",
   "metadata": {},
   "source": [
    "This is a large dataset with many more rows and columns than we will need.  (There are so many columns that we need to remove the limit imposed by pandas on the number of columns displayed.)  "
   ]
  },
  {
   "cell_type": "code",
   "execution_count": 27,
   "id": "0bb82dba-c633-4948-8e80-8fd1c1442721",
   "metadata": {},
   "outputs": [],
   "source": [
    "pd.options.display.max_columns = None"
   ]
  },
  {
   "cell_type": "markdown",
   "id": "d1bcb1f8-a8a3-4395-8cf1-ac9d4f3a72ee",
   "metadata": {},
   "source": [
    "Here are four random rows from the DataFrame.  This `sample` method is similar to the `head` method, but the `sample` method returns randomly selected rows rather than the first rows."
   ]
  },
  {
   "cell_type": "code",
   "execution_count": 28,
   "id": "66764962-81b7-452c-b523-954b9132292a",
   "metadata": {
    "tags": [
     "output_scroll"
    ]
   },
   "outputs": [
    {
     "data": {
      "text/html": [
       "<div>\n",
       "<style scoped>\n",
       "    .dataframe tbody tr th:only-of-type {\n",
       "        vertical-align: middle;\n",
       "    }\n",
       "\n",
       "    .dataframe tbody tr th {\n",
       "        vertical-align: top;\n",
       "    }\n",
       "\n",
       "    .dataframe thead th {\n",
       "        text-align: right;\n",
       "    }\n",
       "</style>\n",
       "<table border=\"1\" class=\"dataframe\">\n",
       "  <thead>\n",
       "    <tr style=\"text-align: right;\">\n",
       "      <th></th>\n",
       "      <th>game_id</th>\n",
       "      <th>season</th>\n",
       "      <th>game_type</th>\n",
       "      <th>week</th>\n",
       "      <th>gameday</th>\n",
       "      <th>weekday</th>\n",
       "      <th>gametime</th>\n",
       "      <th>away_team</th>\n",
       "      <th>away_score</th>\n",
       "      <th>home_team</th>\n",
       "      <th>home_score</th>\n",
       "      <th>location</th>\n",
       "      <th>result</th>\n",
       "      <th>total</th>\n",
       "      <th>overtime</th>\n",
       "      <th>old_game_id</th>\n",
       "      <th>gsis</th>\n",
       "      <th>nfl_detail_id</th>\n",
       "      <th>pfr</th>\n",
       "      <th>pff</th>\n",
       "      <th>espn</th>\n",
       "      <th>away_rest</th>\n",
       "      <th>home_rest</th>\n",
       "      <th>away_moneyline</th>\n",
       "      <th>home_moneyline</th>\n",
       "      <th>spread_line</th>\n",
       "      <th>away_spread_odds</th>\n",
       "      <th>home_spread_odds</th>\n",
       "      <th>total_line</th>\n",
       "      <th>under_odds</th>\n",
       "      <th>over_odds</th>\n",
       "      <th>div_game</th>\n",
       "      <th>roof</th>\n",
       "      <th>surface</th>\n",
       "      <th>temp</th>\n",
       "      <th>wind</th>\n",
       "      <th>away_qb_id</th>\n",
       "      <th>home_qb_id</th>\n",
       "      <th>away_qb_name</th>\n",
       "      <th>home_qb_name</th>\n",
       "      <th>away_coach</th>\n",
       "      <th>home_coach</th>\n",
       "      <th>referee</th>\n",
       "      <th>stadium_id</th>\n",
       "      <th>stadium</th>\n",
       "    </tr>\n",
       "  </thead>\n",
       "  <tbody>\n",
       "    <tr>\n",
       "      <th>931</th>\n",
       "      <td>2002_11_CAR_TB</td>\n",
       "      <td>2002</td>\n",
       "      <td>REG</td>\n",
       "      <td>11</td>\n",
       "      <td>2002-11-17</td>\n",
       "      <td>Sunday</td>\n",
       "      <td>16:05</td>\n",
       "      <td>CAR</td>\n",
       "      <td>10.0</td>\n",
       "      <td>TB</td>\n",
       "      <td>23.0</td>\n",
       "      <td>Home</td>\n",
       "      <td>13.0</td>\n",
       "      <td>33.0</td>\n",
       "      <td>0.0</td>\n",
       "      <td>2002111705</td>\n",
       "      <td>18248.0</td>\n",
       "      <td>NaN</td>\n",
       "      <td>200211170tam</td>\n",
       "      <td>NaN</td>\n",
       "      <td>221117027.0</td>\n",
       "      <td>7</td>\n",
       "      <td>14</td>\n",
       "      <td>NaN</td>\n",
       "      <td>NaN</td>\n",
       "      <td>8.0</td>\n",
       "      <td>NaN</td>\n",
       "      <td>NaN</td>\n",
       "      <td>34.5</td>\n",
       "      <td>NaN</td>\n",
       "      <td>NaN</td>\n",
       "      <td>1</td>\n",
       "      <td>outdoors</td>\n",
       "      <td>grass</td>\n",
       "      <td>64.0</td>\n",
       "      <td>20.0</td>\n",
       "      <td>00-0012732</td>\n",
       "      <td>00-0008442</td>\n",
       "      <td>Rodney Peete</td>\n",
       "      <td>Brad Johnson</td>\n",
       "      <td>John Fox</td>\n",
       "      <td>Jon Gruden</td>\n",
       "      <td>Bob McElwee</td>\n",
       "      <td>TAM00</td>\n",
       "      <td>Raymond James Stadium</td>\n",
       "    </tr>\n",
       "    <tr>\n",
       "      <th>6172</th>\n",
       "      <td>2022_03_KC_IND</td>\n",
       "      <td>2022</td>\n",
       "      <td>REG</td>\n",
       "      <td>3</td>\n",
       "      <td>2022-09-25</td>\n",
       "      <td>Sunday</td>\n",
       "      <td>13:00</td>\n",
       "      <td>KC</td>\n",
       "      <td>17.0</td>\n",
       "      <td>IND</td>\n",
       "      <td>20.0</td>\n",
       "      <td>Home</td>\n",
       "      <td>3.0</td>\n",
       "      <td>37.0</td>\n",
       "      <td>0.0</td>\n",
       "      <td>2022092502</td>\n",
       "      <td>NaN</td>\n",
       "      <td>NaN</td>\n",
       "      <td>202209250clt</td>\n",
       "      <td>NaN</td>\n",
       "      <td>401437638.0</td>\n",
       "      <td>10</td>\n",
       "      <td>7</td>\n",
       "      <td>-199.0</td>\n",
       "      <td>177.0</td>\n",
       "      <td>-4.5</td>\n",
       "      <td>103.0</td>\n",
       "      <td>-114.0</td>\n",
       "      <td>51.0</td>\n",
       "      <td>-105.0</td>\n",
       "      <td>-107.0</td>\n",
       "      <td>0</td>\n",
       "      <td>open</td>\n",
       "      <td>fieldturf</td>\n",
       "      <td>NaN</td>\n",
       "      <td>NaN</td>\n",
       "      <td>00-0033873</td>\n",
       "      <td>00-0026143</td>\n",
       "      <td>Patrick Mahomes</td>\n",
       "      <td>Matt Ryan</td>\n",
       "      <td>Andy Reid</td>\n",
       "      <td>Frank Reich</td>\n",
       "      <td>Shawn Smith</td>\n",
       "      <td>IND00</td>\n",
       "      <td>Lucas Oil Stadium</td>\n",
       "    </tr>\n",
       "    <tr>\n",
       "      <th>1217</th>\n",
       "      <td>2003_12_CIN_SD</td>\n",
       "      <td>2003</td>\n",
       "      <td>REG</td>\n",
       "      <td>12</td>\n",
       "      <td>2003-11-23</td>\n",
       "      <td>Sunday</td>\n",
       "      <td>16:15</td>\n",
       "      <td>CIN</td>\n",
       "      <td>34.0</td>\n",
       "      <td>SD</td>\n",
       "      <td>27.0</td>\n",
       "      <td>Home</td>\n",
       "      <td>-7.0</td>\n",
       "      <td>61.0</td>\n",
       "      <td>0.0</td>\n",
       "      <td>2003112313</td>\n",
       "      <td>26449.0</td>\n",
       "      <td>NaN</td>\n",
       "      <td>200311230sdg</td>\n",
       "      <td>NaN</td>\n",
       "      <td>231123024.0</td>\n",
       "      <td>7</td>\n",
       "      <td>7</td>\n",
       "      <td>NaN</td>\n",
       "      <td>NaN</td>\n",
       "      <td>-3.0</td>\n",
       "      <td>NaN</td>\n",
       "      <td>NaN</td>\n",
       "      <td>43.0</td>\n",
       "      <td>NaN</td>\n",
       "      <td>NaN</td>\n",
       "      <td>0</td>\n",
       "      <td>outdoors</td>\n",
       "      <td>grass</td>\n",
       "      <td>67.0</td>\n",
       "      <td>9.0</td>\n",
       "      <td>00-0009311</td>\n",
       "      <td>00-0005363</td>\n",
       "      <td>Jon Kitna</td>\n",
       "      <td>Doug Flutie</td>\n",
       "      <td>Marvin Lewis</td>\n",
       "      <td>Marty Schottenheimer</td>\n",
       "      <td>Tony Corrente</td>\n",
       "      <td>SDG00</td>\n",
       "      <td>Qualcomm Stadium</td>\n",
       "    </tr>\n",
       "    <tr>\n",
       "      <th>1356</th>\n",
       "      <td>2004_03_DAL_WAS</td>\n",
       "      <td>2004</td>\n",
       "      <td>REG</td>\n",
       "      <td>3</td>\n",
       "      <td>2004-09-27</td>\n",
       "      <td>Monday</td>\n",
       "      <td>09:00</td>\n",
       "      <td>DAL</td>\n",
       "      <td>21.0</td>\n",
       "      <td>WAS</td>\n",
       "      <td>18.0</td>\n",
       "      <td>Home</td>\n",
       "      <td>-3.0</td>\n",
       "      <td>39.0</td>\n",
       "      <td>0.0</td>\n",
       "      <td>2004092700</td>\n",
       "      <td>26954.0</td>\n",
       "      <td>NaN</td>\n",
       "      <td>200409270was</td>\n",
       "      <td>NaN</td>\n",
       "      <td>240927028.0</td>\n",
       "      <td>8</td>\n",
       "      <td>8</td>\n",
       "      <td>NaN</td>\n",
       "      <td>NaN</td>\n",
       "      <td>1.5</td>\n",
       "      <td>NaN</td>\n",
       "      <td>NaN</td>\n",
       "      <td>35.5</td>\n",
       "      <td>NaN</td>\n",
       "      <td>NaN</td>\n",
       "      <td>1</td>\n",
       "      <td>outdoors</td>\n",
       "      <td>grass</td>\n",
       "      <td>72.0</td>\n",
       "      <td>7.0</td>\n",
       "      <td>00-0016193</td>\n",
       "      <td>00-0002110</td>\n",
       "      <td>Vinny Testaverde</td>\n",
       "      <td>Mark Brunell</td>\n",
       "      <td>Bill Parcells</td>\n",
       "      <td>Joe Gibbs</td>\n",
       "      <td>Gerry Austin</td>\n",
       "      <td>WAS00</td>\n",
       "      <td>FedExField</td>\n",
       "    </tr>\n",
       "  </tbody>\n",
       "</table>\n",
       "</div>"
      ],
      "text/plain": [
       "              game_id  season game_type  week     gameday weekday gametime   \n",
       "931    2002_11_CAR_TB    2002       REG    11  2002-11-17  Sunday    16:05  \\\n",
       "6172   2022_03_KC_IND    2022       REG     3  2022-09-25  Sunday    13:00   \n",
       "1217   2003_12_CIN_SD    2003       REG    12  2003-11-23  Sunday    16:15   \n",
       "1356  2004_03_DAL_WAS    2004       REG     3  2004-09-27  Monday    09:00   \n",
       "\n",
       "     away_team  away_score home_team  home_score location  result  total   \n",
       "931        CAR        10.0        TB        23.0     Home    13.0   33.0  \\\n",
       "6172        KC        17.0       IND        20.0     Home     3.0   37.0   \n",
       "1217       CIN        34.0        SD        27.0     Home    -7.0   61.0   \n",
       "1356       DAL        21.0       WAS        18.0     Home    -3.0   39.0   \n",
       "\n",
       "      overtime  old_game_id     gsis nfl_detail_id           pfr  pff   \n",
       "931        0.0   2002111705  18248.0           NaN  200211170tam  NaN  \\\n",
       "6172       0.0   2022092502      NaN           NaN  202209250clt  NaN   \n",
       "1217       0.0   2003112313  26449.0           NaN  200311230sdg  NaN   \n",
       "1356       0.0   2004092700  26954.0           NaN  200409270was  NaN   \n",
       "\n",
       "             espn  away_rest  home_rest  away_moneyline  home_moneyline   \n",
       "931   221117027.0          7         14             NaN             NaN  \\\n",
       "6172  401437638.0         10          7          -199.0           177.0   \n",
       "1217  231123024.0          7          7             NaN             NaN   \n",
       "1356  240927028.0          8          8             NaN             NaN   \n",
       "\n",
       "      spread_line  away_spread_odds  home_spread_odds  total_line  under_odds   \n",
       "931           8.0               NaN               NaN        34.5         NaN  \\\n",
       "6172         -4.5             103.0            -114.0        51.0      -105.0   \n",
       "1217         -3.0               NaN               NaN        43.0         NaN   \n",
       "1356          1.5               NaN               NaN        35.5         NaN   \n",
       "\n",
       "      over_odds  div_game      roof    surface  temp  wind  away_qb_id   \n",
       "931         NaN         1  outdoors      grass  64.0  20.0  00-0012732  \\\n",
       "6172     -107.0         0      open  fieldturf   NaN   NaN  00-0033873   \n",
       "1217        NaN         0  outdoors      grass  67.0   9.0  00-0009311   \n",
       "1356        NaN         1  outdoors      grass  72.0   7.0  00-0016193   \n",
       "\n",
       "      home_qb_id      away_qb_name  home_qb_name     away_coach   \n",
       "931   00-0008442      Rodney Peete  Brad Johnson       John Fox  \\\n",
       "6172  00-0026143   Patrick Mahomes     Matt Ryan      Andy Reid   \n",
       "1217  00-0005363         Jon Kitna   Doug Flutie   Marvin Lewis   \n",
       "1356  00-0002110  Vinny Testaverde  Mark Brunell  Bill Parcells   \n",
       "\n",
       "                home_coach        referee stadium_id                stadium  \n",
       "931             Jon Gruden    Bob McElwee      TAM00  Raymond James Stadium  \n",
       "6172           Frank Reich    Shawn Smith      IND00      Lucas Oil Stadium  \n",
       "1217  Marty Schottenheimer  Tony Corrente      SDG00       Qualcomm Stadium  \n",
       "1356             Joe Gibbs   Gerry Austin      WAS00             FedExField  "
      ]
     },
     "execution_count": 28,
     "metadata": {},
     "output_type": "execute_result"
    }
   ],
   "source": [
    "df_full.sample(4)"
   ]
  },
  {
   "cell_type": "markdown",
   "id": "a7dcc1e3-8128-4839-9936-a25b190ba5ec",
   "metadata": {},
   "source": [
    "We will only need a few columns from this.  (In fact, I don't even think we will need the \"week\" column for these power ratings.)  We define a list `cols` containing the names of the columns we will use."
   ]
  },
  {
   "cell_type": "code",
   "execution_count": 29,
   "id": "47b94276-3f54-4f71-9f0e-0cef5e93aa8d",
   "metadata": {},
   "outputs": [],
   "source": [
    "cols = [\"home_team\", \"away_team\", \"location\", \"spread_line\"]"
   ]
  },
  {
   "cell_type": "markdown",
   "id": "67a99e65-558f-4ef7-ae33-61d33243d82b",
   "metadata": {},
   "source": [
    "We will also restrict to the season 2023.  The following says that we only want the rows for which the season is 2023, and we only want columns in the list `cols`."
   ]
  },
  {
   "cell_type": "code",
   "execution_count": 32,
   "id": "4d5196bd-4a88-4b9a-bb7e-434dec3e3198",
   "metadata": {},
   "outputs": [],
   "source": [
    "df = df_full.loc[df[\"season\"] == 2023, cols]"
   ]
  },
  {
   "cell_type": "markdown",
   "id": "5e99ca9e-7982-4388-9f77-7216594c617b",
   "metadata": {},
   "source": [
    "The resulting pandas DataFrame has 272 rows (one for each week of the regular season) and 4 columns."
   ]
  },
  {
   "cell_type": "code",
   "execution_count": 33,
   "id": "3cbabca2-098b-4b8f-a894-a59e21549003",
   "metadata": {},
   "outputs": [
    {
     "data": {
      "text/plain": [
       "(272, 4)"
      ]
     },
     "execution_count": 33,
     "metadata": {},
     "output_type": "execute_result"
    }
   ],
   "source": [
    "df.shape"
   ]
  },
  {
   "cell_type": "markdown",
   "id": "950a5270-f4c9-439d-b7c4-847fbb6f62da",
   "metadata": {},
   "source": [
    "Here we can see that the data contained in `df` is much more modest than what was contained in `df_full`."
   ]
  },
  {
   "cell_type": "code",
   "execution_count": 34,
   "id": "7712eb4c-94d8-4881-bd65-659f57919bd6",
   "metadata": {},
   "outputs": [
    {
     "data": {
      "text/html": [
       "<div>\n",
       "<style scoped>\n",
       "    .dataframe tbody tr th:only-of-type {\n",
       "        vertical-align: middle;\n",
       "    }\n",
       "\n",
       "    .dataframe tbody tr th {\n",
       "        vertical-align: top;\n",
       "    }\n",
       "\n",
       "    .dataframe thead th {\n",
       "        text-align: right;\n",
       "    }\n",
       "</style>\n",
       "<table border=\"1\" class=\"dataframe\">\n",
       "  <thead>\n",
       "    <tr style=\"text-align: right;\">\n",
       "      <th></th>\n",
       "      <th>home_team</th>\n",
       "      <th>away_team</th>\n",
       "      <th>location</th>\n",
       "      <th>spread_line</th>\n",
       "    </tr>\n",
       "  </thead>\n",
       "  <tbody>\n",
       "    <tr>\n",
       "      <th>6481</th>\n",
       "      <td>DAL</td>\n",
       "      <td>NE</td>\n",
       "      <td>Home</td>\n",
       "      <td>4.5</td>\n",
       "    </tr>\n",
       "    <tr>\n",
       "      <th>6653</th>\n",
       "      <td>TEN</td>\n",
       "      <td>SEA</td>\n",
       "      <td>Home</td>\n",
       "      <td>-2.0</td>\n",
       "    </tr>\n",
       "    <tr>\n",
       "      <th>6690</th>\n",
       "      <td>SF</td>\n",
       "      <td>LA</td>\n",
       "      <td>Home</td>\n",
       "      <td>7.0</td>\n",
       "    </tr>\n",
       "    <tr>\n",
       "      <th>6637</th>\n",
       "      <td>NO</td>\n",
       "      <td>NYG</td>\n",
       "      <td>Home</td>\n",
       "      <td>2.5</td>\n",
       "    </tr>\n",
       "  </tbody>\n",
       "</table>\n",
       "</div>"
      ],
      "text/plain": [
       "     home_team away_team location  spread_line\n",
       "6481       DAL        NE     Home          4.5\n",
       "6653       TEN       SEA     Home         -2.0\n",
       "6690        SF        LA     Home          7.0\n",
       "6637        NO       NYG     Home          2.5"
      ]
     },
     "execution_count": 34,
     "metadata": {},
     "output_type": "execute_result"
    }
   ],
   "source": [
    "df.sample(4)"
   ]
  },
  {
   "cell_type": "markdown",
   "id": "3df38623-e514-42bf-855c-36e269ba0b05",
   "metadata": {},
   "source": [
    "The \"location\" column might seem pointless, but it does contain some useful information.  The following is telling us that \"Home\" is the location for 267 of the rows, and \"Neutral\" is the location for the remaining 5 rows."
   ]
  },
  {
   "cell_type": "code",
   "execution_count": 35,
   "id": "c80031b4-2765-4504-957f-69341f2017a2",
   "metadata": {},
   "outputs": [
    {
     "data": {
      "text/plain": [
       "location\n",
       "Home       267\n",
       "Neutral      5\n",
       "Name: count, dtype: int64"
      ]
     },
     "execution_count": 35,
     "metadata": {},
     "output_type": "execute_result"
    }
   ],
   "source": [
    "df[\"location\"].value_counts()"
   ]
  },
  {
   "cell_type": "markdown",
   "id": "b5b46c6d-631b-4056-b88a-5a31ab15fbb5",
   "metadata": {},
   "source": [
    "Here are the neutral games in the dataset.  This approach to getting sub-DataFrames using the syntax `df[???]`, where `???` is something with Boolean (`True`/`False`) values, is very convenient and is called \"Boolean indexing\"."
   ]
  },
  {
   "cell_type": "code",
   "execution_count": 36,
   "id": "669ac05b-740b-4a46-ba4f-b0c9024bc972",
   "metadata": {},
   "outputs": [
    {
     "data": {
      "text/html": [
       "<div>\n",
       "<style scoped>\n",
       "    .dataframe tbody tr th:only-of-type {\n",
       "        vertical-align: middle;\n",
       "    }\n",
       "\n",
       "    .dataframe tbody tr th {\n",
       "        vertical-align: top;\n",
       "    }\n",
       "\n",
       "    .dataframe thead th {\n",
       "        text-align: right;\n",
       "    }\n",
       "</style>\n",
       "<table border=\"1\" class=\"dataframe\">\n",
       "  <thead>\n",
       "    <tr style=\"text-align: right;\">\n",
       "      <th></th>\n",
       "      <th>home_team</th>\n",
       "      <th>away_team</th>\n",
       "      <th>location</th>\n",
       "      <th>spread_line</th>\n",
       "    </tr>\n",
       "  </thead>\n",
       "  <tbody>\n",
       "    <tr>\n",
       "      <th>6470</th>\n",
       "      <td>JAX</td>\n",
       "      <td>ATL</td>\n",
       "      <td>Neutral</td>\n",
       "      <td>4.0</td>\n",
       "    </tr>\n",
       "    <tr>\n",
       "      <th>6486</th>\n",
       "      <td>BUF</td>\n",
       "      <td>JAX</td>\n",
       "      <td>Neutral</td>\n",
       "      <td>3.5</td>\n",
       "    </tr>\n",
       "    <tr>\n",
       "      <th>6500</th>\n",
       "      <td>TEN</td>\n",
       "      <td>BAL</td>\n",
       "      <td>Neutral</td>\n",
       "      <td>-5.5</td>\n",
       "    </tr>\n",
       "    <tr>\n",
       "      <th>6544</th>\n",
       "      <td>KC</td>\n",
       "      <td>MIA</td>\n",
       "      <td>Neutral</td>\n",
       "      <td>4.0</td>\n",
       "    </tr>\n",
       "    <tr>\n",
       "      <th>6558</th>\n",
       "      <td>NE</td>\n",
       "      <td>IND</td>\n",
       "      <td>Neutral</td>\n",
       "      <td>4.0</td>\n",
       "    </tr>\n",
       "  </tbody>\n",
       "</table>\n",
       "</div>"
      ],
      "text/plain": [
       "     home_team away_team location  spread_line\n",
       "6470       JAX       ATL  Neutral          4.0\n",
       "6486       BUF       JAX  Neutral          3.5\n",
       "6500       TEN       BAL  Neutral         -5.5\n",
       "6544        KC       MIA  Neutral          4.0\n",
       "6558        NE       IND  Neutral          4.0"
      ]
     },
     "execution_count": 36,
     "metadata": {},
     "output_type": "execute_result"
    }
   ],
   "source": [
    "df[df[\"location\"] == \"Neutral\"]"
   ]
  },
  {
   "cell_type": "markdown",
   "id": "9c9ece58-6496-4a64-abf8-8633aa8a50b7",
   "metadata": {},
   "source": [
    "It will be more convenient for us to have this information represented differently.  Here we create a new column in `df` named \"neutral\" which contains `True` if the location is \"Neutral\" and contains `False` otherwise."
   ]
  },
  {
   "cell_type": "code",
   "execution_count": 37,
   "id": "5624c12f-99a0-47d0-a27e-a3f3664671db",
   "metadata": {},
   "outputs": [],
   "source": [
    "df[\"neutral\"] = (df[\"location\"] == \"Neutral\")"
   ]
  },
  {
   "cell_type": "markdown",
   "id": "cf2781c8-1c62-4d67-837f-649765063100",
   "metadata": {},
   "source": [
    "Here is an example of how the newly added column looks.  (The high numbers like `6468` on the left-hand side refer to the row numbers in the original full DataFrame.  We won't use them for anything.  If you instead wanted numbers from 0 to 271, you could use `df.reset_index(drop=True)`.  We won't bother, because when we save the resulting DataFrame, we will drop the index anyway.)"
   ]
  },
  {
   "cell_type": "code",
   "execution_count": 38,
   "id": "3f71ce05-c150-4bff-9fd6-d3cd0f4a0eaf",
   "metadata": {},
   "outputs": [
    {
     "data": {
      "text/html": [
       "<div>\n",
       "<style scoped>\n",
       "    .dataframe tbody tr th:only-of-type {\n",
       "        vertical-align: middle;\n",
       "    }\n",
       "\n",
       "    .dataframe tbody tr th {\n",
       "        vertical-align: top;\n",
       "    }\n",
       "\n",
       "    .dataframe thead th {\n",
       "        text-align: right;\n",
       "    }\n",
       "</style>\n",
       "<table border=\"1\" class=\"dataframe\">\n",
       "  <thead>\n",
       "    <tr style=\"text-align: right;\">\n",
       "      <th></th>\n",
       "      <th>home_team</th>\n",
       "      <th>away_team</th>\n",
       "      <th>location</th>\n",
       "      <th>spread_line</th>\n",
       "      <th>neutral</th>\n",
       "    </tr>\n",
       "  </thead>\n",
       "  <tbody>\n",
       "    <tr>\n",
       "      <th>6468</th>\n",
       "      <td>CIN</td>\n",
       "      <td>LA</td>\n",
       "      <td>Home</td>\n",
       "      <td>7.5</td>\n",
       "      <td>False</td>\n",
       "    </tr>\n",
       "    <tr>\n",
       "      <th>6469</th>\n",
       "      <td>GB</td>\n",
       "      <td>DET</td>\n",
       "      <td>Home</td>\n",
       "      <td>-1.5</td>\n",
       "      <td>False</td>\n",
       "    </tr>\n",
       "    <tr>\n",
       "      <th>6470</th>\n",
       "      <td>JAX</td>\n",
       "      <td>ATL</td>\n",
       "      <td>Neutral</td>\n",
       "      <td>4.0</td>\n",
       "      <td>True</td>\n",
       "    </tr>\n",
       "    <tr>\n",
       "      <th>6471</th>\n",
       "      <td>BUF</td>\n",
       "      <td>MIA</td>\n",
       "      <td>Home</td>\n",
       "      <td>3.5</td>\n",
       "      <td>False</td>\n",
       "    </tr>\n",
       "    <tr>\n",
       "      <th>6472</th>\n",
       "      <td>CAR</td>\n",
       "      <td>MIN</td>\n",
       "      <td>Home</td>\n",
       "      <td>-1.5</td>\n",
       "      <td>False</td>\n",
       "    </tr>\n",
       "  </tbody>\n",
       "</table>\n",
       "</div>"
      ],
      "text/plain": [
       "     home_team away_team location  spread_line  neutral\n",
       "6468       CIN        LA     Home          7.5    False\n",
       "6469        GB       DET     Home         -1.5    False\n",
       "6470       JAX       ATL  Neutral          4.0     True\n",
       "6471       BUF       MIA     Home          3.5    False\n",
       "6472       CAR       MIN     Home         -1.5    False"
      ]
     },
     "execution_count": 38,
     "metadata": {},
     "output_type": "execute_result"
    }
   ],
   "source": [
    "df.loc[6468:6472]"
   ]
  },
  {
   "cell_type": "markdown",
   "id": "44053635-bd2d-465a-bb80-90c57357330a",
   "metadata": {},
   "source": [
    "Let's get rid of the old \"location\" column.  (The `axis=1` term tells pandas that we want to drop a column, rather than dropping a row, which would be `axis=0`.)"
   ]
  },
  {
   "cell_type": "code",
   "execution_count": 40,
   "id": "0a7df47e-8548-4c96-8600-f51ea7d86519",
   "metadata": {},
   "outputs": [],
   "source": [
    "df_new = df.drop(\"location\", axis=1)"
   ]
  },
  {
   "cell_type": "code",
   "execution_count": 41,
   "id": "6996723a-4015-4552-88db-c175ee0870f0",
   "metadata": {},
   "outputs": [
    {
     "data": {
      "text/html": [
       "<div>\n",
       "<style scoped>\n",
       "    .dataframe tbody tr th:only-of-type {\n",
       "        vertical-align: middle;\n",
       "    }\n",
       "\n",
       "    .dataframe tbody tr th {\n",
       "        vertical-align: top;\n",
       "    }\n",
       "\n",
       "    .dataframe thead th {\n",
       "        text-align: right;\n",
       "    }\n",
       "</style>\n",
       "<table border=\"1\" class=\"dataframe\">\n",
       "  <thead>\n",
       "    <tr style=\"text-align: right;\">\n",
       "      <th></th>\n",
       "      <th>home_team</th>\n",
       "      <th>away_team</th>\n",
       "      <th>spread_line</th>\n",
       "      <th>neutral</th>\n",
       "    </tr>\n",
       "  </thead>\n",
       "  <tbody>\n",
       "    <tr>\n",
       "      <th>6468</th>\n",
       "      <td>CIN</td>\n",
       "      <td>LA</td>\n",
       "      <td>7.5</td>\n",
       "      <td>False</td>\n",
       "    </tr>\n",
       "    <tr>\n",
       "      <th>6469</th>\n",
       "      <td>GB</td>\n",
       "      <td>DET</td>\n",
       "      <td>-1.5</td>\n",
       "      <td>False</td>\n",
       "    </tr>\n",
       "    <tr>\n",
       "      <th>6470</th>\n",
       "      <td>JAX</td>\n",
       "      <td>ATL</td>\n",
       "      <td>4.0</td>\n",
       "      <td>True</td>\n",
       "    </tr>\n",
       "    <tr>\n",
       "      <th>6471</th>\n",
       "      <td>BUF</td>\n",
       "      <td>MIA</td>\n",
       "      <td>3.5</td>\n",
       "      <td>False</td>\n",
       "    </tr>\n",
       "    <tr>\n",
       "      <th>6472</th>\n",
       "      <td>CAR</td>\n",
       "      <td>MIN</td>\n",
       "      <td>-1.5</td>\n",
       "      <td>False</td>\n",
       "    </tr>\n",
       "  </tbody>\n",
       "</table>\n",
       "</div>"
      ],
      "text/plain": [
       "     home_team away_team  spread_line  neutral\n",
       "6468       CIN        LA          7.5    False\n",
       "6469        GB       DET         -1.5    False\n",
       "6470       JAX       ATL          4.0     True\n",
       "6471       BUF       MIA          3.5    False\n",
       "6472       CAR       MIN         -1.5    False"
      ]
     },
     "execution_count": 41,
     "metadata": {},
     "output_type": "execute_result"
    }
   ],
   "source": [
    "df_new.loc[6468:6472]"
   ]
  },
  {
   "cell_type": "markdown",
   "id": "413d0489-c124-4460-ae8a-1e3f4c41e3c9",
   "metadata": {},
   "source": [
    "Let's save this DataFrame as a csv file.  We'll include today's date in the file name, just in case we want access to multiple versions of this file later."
   ]
  },
  {
   "cell_type": "code",
   "execution_count": 43,
   "id": "005e5cb3-e157-4a1a-98db-30cdced86421",
   "metadata": {},
   "outputs": [],
   "source": [
    "import time\n",
    "today = time.strftime(\"%Y-%m-%d\")"
   ]
  },
  {
   "cell_type": "markdown",
   "id": "0e48e9c3-e239-4071-8731-47561fae7c30",
   "metadata": {},
   "source": [
    "The following is an example of an f-string in Python, which enables the value of the variable `today` to be included as part of the written string."
   ]
  },
  {
   "cell_type": "code",
   "execution_count": 46,
   "id": "cb98ecb2-533d-4ef5-b71e-65862295cda5",
   "metadata": {},
   "outputs": [
    {
     "data": {
      "text/plain": [
       "'data/spreads-2023-08-10.csv'"
      ]
     },
     "execution_count": 46,
     "metadata": {},
     "output_type": "execute_result"
    }
   ],
   "source": [
    "filepath = f\"data/spreads-{today}.csv\"\n",
    "filepath"
   ]
  },
  {
   "cell_type": "markdown",
   "id": "dd18aea4-8271-4db1-90e5-003cf39add9d",
   "metadata": {},
   "source": [
    "Here we save the file.  Since we don't want those numbers like `6470` to be saved, we use `index=False` as one of our arguments."
   ]
  },
  {
   "cell_type": "code",
   "execution_count": 47,
   "id": "f48aa900-f826-4104-b984-bf1bc068b5dd",
   "metadata": {},
   "outputs": [],
   "source": [
    "df_new.to_csv(filename, index=False)"
   ]
  }
 ],
 "metadata": {
  "kernelspec": {
   "display_name": "Python 3 (ipykernel)",
   "language": "python",
   "name": "python3"
  },
  "language_info": {
   "codemirror_mode": {
    "name": "ipython",
    "version": 3
   },
   "file_extension": ".py",
   "mimetype": "text/x-python",
   "name": "python",
   "nbconvert_exporter": "python",
   "pygments_lexer": "ipython3",
   "version": "3.10.0"
  }
 },
 "nbformat": 4,
 "nbformat_minor": 5
}
