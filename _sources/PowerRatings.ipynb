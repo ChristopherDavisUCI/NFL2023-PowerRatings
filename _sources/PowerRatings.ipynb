{
 "cells": [
  {
   "cell_type": "markdown",
   "metadata": {
    "cell_id": "ee7790ad32dc4a958ca0ebea815d7d18",
    "deepnote_cell_type": "markdown"
   },
   "source": [
    "# NFL power ratings calculation\n",
    "\n",
    "We read in the file that was created in the [GetLines notebook](GetLines)."
   ]
  },
  {
   "cell_type": "code",
   "execution_count": 11,
   "metadata": {
    "cell_id": "991777b3639147c58ce6d699f7ac9b4d",
    "deepnote_cell_type": "code",
    "deepnote_to_be_reexecuted": false,
    "execution_millis": 4,
    "execution_start": 1685675596162,
    "source_hash": null
   },
   "outputs": [],
   "source": [
    "import pandas as pd\n",
    "pd.options.display.max_columns = 33 # Display all teams and HFA"
   ]
  },
  {
   "cell_type": "markdown",
   "metadata": {},
   "source": [
    "Here is how the first few rows look."
   ]
  },
  {
   "cell_type": "code",
   "execution_count": 42,
   "metadata": {
    "cell_id": "d807efed1a51421ea8cbbca2a261ad0c",
    "deepnote_cell_type": "code",
    "deepnote_to_be_reexecuted": false,
    "execution_millis": 291,
    "execution_start": 1685675597720,
    "source_hash": null
   },
   "outputs": [
    {
     "data": {
      "text/html": [
       "<div>\n",
       "<style scoped>\n",
       "    .dataframe tbody tr th:only-of-type {\n",
       "        vertical-align: middle;\n",
       "    }\n",
       "\n",
       "    .dataframe tbody tr th {\n",
       "        vertical-align: top;\n",
       "    }\n",
       "\n",
       "    .dataframe thead th {\n",
       "        text-align: right;\n",
       "    }\n",
       "</style>\n",
       "<table border=\"1\" class=\"dataframe\">\n",
       "  <thead>\n",
       "    <tr style=\"text-align: right;\">\n",
       "      <th></th>\n",
       "      <th>home_team</th>\n",
       "      <th>away_team</th>\n",
       "      <th>spread_line</th>\n",
       "      <th>neutral</th>\n",
       "    </tr>\n",
       "  </thead>\n",
       "  <tbody>\n",
       "    <tr>\n",
       "      <th>0</th>\n",
       "      <td>KC</td>\n",
       "      <td>DET</td>\n",
       "      <td>6.5</td>\n",
       "      <td>False</td>\n",
       "    </tr>\n",
       "    <tr>\n",
       "      <th>1</th>\n",
       "      <td>ATL</td>\n",
       "      <td>CAR</td>\n",
       "      <td>3.0</td>\n",
       "      <td>False</td>\n",
       "    </tr>\n",
       "    <tr>\n",
       "      <th>2</th>\n",
       "      <td>BAL</td>\n",
       "      <td>HOU</td>\n",
       "      <td>9.5</td>\n",
       "      <td>False</td>\n",
       "    </tr>\n",
       "    <tr>\n",
       "      <th>3</th>\n",
       "      <td>CLE</td>\n",
       "      <td>CIN</td>\n",
       "      <td>-1.0</td>\n",
       "      <td>False</td>\n",
       "    </tr>\n",
       "    <tr>\n",
       "      <th>4</th>\n",
       "      <td>IND</td>\n",
       "      <td>JAX</td>\n",
       "      <td>-3.5</td>\n",
       "      <td>False</td>\n",
       "    </tr>\n",
       "  </tbody>\n",
       "</table>\n",
       "</div>"
      ],
      "text/plain": [
       "  home_team away_team  spread_line  neutral\n",
       "0        KC       DET          6.5    False\n",
       "1       ATL       CAR          3.0    False\n",
       "2       BAL       HOU          9.5    False\n",
       "3       CLE       CIN         -1.0    False\n",
       "4       IND       JAX         -3.5    False"
      ]
     },
     "execution_count": 42,
     "metadata": {},
     "output_type": "execute_result"
    }
   ],
   "source": [
    "df = pd.read_csv(\"data/spreads-2023-08-10.csv\")\n",
    "df.head()"
   ]
  },
  {
   "cell_type": "markdown",
   "metadata": {},
   "source": [
    "## Setting up 272 equations in 33 variables\n",
    "\n",
    "This computation should look familiar from the [Introduction notebook](intro), where we were using only four games."
   ]
  },
  {
   "cell_type": "code",
   "execution_count": 13,
   "metadata": {},
   "outputs": [],
   "source": [
    "home_dummies = pd.get_dummies(df[\"home_team\"], dtype=\"int\")\n",
    "away_dummies = pd.get_dummies(df[\"away_team\"], dtype=\"int\")\n",
    "coefs = home_dummies - away_dummies"
   ]
  },
  {
   "cell_type": "markdown",
   "metadata": {},
   "source": [
    "Notice how most of these entries are 0 (this is a \"sparse\" matrix, although I don't think we ever take advantage of that fact), with a `1` corresponding to the home teams and a `-1` corresponding to the away teams.  (We haven't added the home-field advantage column yet.)  For example, in the top row, we have a `1` in the \"KC\" column and a `-1` in the \"DET\" column."
   ]
  },
  {
   "cell_type": "code",
   "execution_count": 43,
   "metadata": {},
   "outputs": [
    {
     "data": {
      "text/html": [
       "<div>\n",
       "<style scoped>\n",
       "    .dataframe tbody tr th:only-of-type {\n",
       "        vertical-align: middle;\n",
       "    }\n",
       "\n",
       "    .dataframe tbody tr th {\n",
       "        vertical-align: top;\n",
       "    }\n",
       "\n",
       "    .dataframe thead th {\n",
       "        text-align: right;\n",
       "    }\n",
       "</style>\n",
       "<table border=\"1\" class=\"dataframe\">\n",
       "  <thead>\n",
       "    <tr style=\"text-align: right;\">\n",
       "      <th></th>\n",
       "      <th>ARI</th>\n",
       "      <th>ATL</th>\n",
       "      <th>BAL</th>\n",
       "      <th>BUF</th>\n",
       "      <th>CAR</th>\n",
       "      <th>CHI</th>\n",
       "      <th>CIN</th>\n",
       "      <th>CLE</th>\n",
       "      <th>DAL</th>\n",
       "      <th>DEN</th>\n",
       "      <th>DET</th>\n",
       "      <th>GB</th>\n",
       "      <th>HOU</th>\n",
       "      <th>IND</th>\n",
       "      <th>JAX</th>\n",
       "      <th>KC</th>\n",
       "      <th>LA</th>\n",
       "      <th>LAC</th>\n",
       "      <th>LV</th>\n",
       "      <th>MIA</th>\n",
       "      <th>MIN</th>\n",
       "      <th>NE</th>\n",
       "      <th>NO</th>\n",
       "      <th>NYG</th>\n",
       "      <th>NYJ</th>\n",
       "      <th>PHI</th>\n",
       "      <th>PIT</th>\n",
       "      <th>SEA</th>\n",
       "      <th>SF</th>\n",
       "      <th>TB</th>\n",
       "      <th>TEN</th>\n",
       "      <th>WAS</th>\n",
       "      <th>HFA</th>\n",
       "    </tr>\n",
       "  </thead>\n",
       "  <tbody>\n",
       "    <tr>\n",
       "      <th>0</th>\n",
       "      <td>0</td>\n",
       "      <td>0</td>\n",
       "      <td>0</td>\n",
       "      <td>0</td>\n",
       "      <td>0</td>\n",
       "      <td>0</td>\n",
       "      <td>0</td>\n",
       "      <td>0</td>\n",
       "      <td>0</td>\n",
       "      <td>0</td>\n",
       "      <td>-1</td>\n",
       "      <td>0</td>\n",
       "      <td>0</td>\n",
       "      <td>0</td>\n",
       "      <td>0</td>\n",
       "      <td>1</td>\n",
       "      <td>0</td>\n",
       "      <td>0</td>\n",
       "      <td>0</td>\n",
       "      <td>0</td>\n",
       "      <td>0</td>\n",
       "      <td>0</td>\n",
       "      <td>0</td>\n",
       "      <td>0</td>\n",
       "      <td>0</td>\n",
       "      <td>0</td>\n",
       "      <td>0</td>\n",
       "      <td>0</td>\n",
       "      <td>0</td>\n",
       "      <td>0</td>\n",
       "      <td>0</td>\n",
       "      <td>0</td>\n",
       "      <td>1</td>\n",
       "    </tr>\n",
       "    <tr>\n",
       "      <th>1</th>\n",
       "      <td>0</td>\n",
       "      <td>1</td>\n",
       "      <td>0</td>\n",
       "      <td>0</td>\n",
       "      <td>-1</td>\n",
       "      <td>0</td>\n",
       "      <td>0</td>\n",
       "      <td>0</td>\n",
       "      <td>0</td>\n",
       "      <td>0</td>\n",
       "      <td>0</td>\n",
       "      <td>0</td>\n",
       "      <td>0</td>\n",
       "      <td>0</td>\n",
       "      <td>0</td>\n",
       "      <td>0</td>\n",
       "      <td>0</td>\n",
       "      <td>0</td>\n",
       "      <td>0</td>\n",
       "      <td>0</td>\n",
       "      <td>0</td>\n",
       "      <td>0</td>\n",
       "      <td>0</td>\n",
       "      <td>0</td>\n",
       "      <td>0</td>\n",
       "      <td>0</td>\n",
       "      <td>0</td>\n",
       "      <td>0</td>\n",
       "      <td>0</td>\n",
       "      <td>0</td>\n",
       "      <td>0</td>\n",
       "      <td>0</td>\n",
       "      <td>1</td>\n",
       "    </tr>\n",
       "    <tr>\n",
       "      <th>2</th>\n",
       "      <td>0</td>\n",
       "      <td>0</td>\n",
       "      <td>1</td>\n",
       "      <td>0</td>\n",
       "      <td>0</td>\n",
       "      <td>0</td>\n",
       "      <td>0</td>\n",
       "      <td>0</td>\n",
       "      <td>0</td>\n",
       "      <td>0</td>\n",
       "      <td>0</td>\n",
       "      <td>0</td>\n",
       "      <td>-1</td>\n",
       "      <td>0</td>\n",
       "      <td>0</td>\n",
       "      <td>0</td>\n",
       "      <td>0</td>\n",
       "      <td>0</td>\n",
       "      <td>0</td>\n",
       "      <td>0</td>\n",
       "      <td>0</td>\n",
       "      <td>0</td>\n",
       "      <td>0</td>\n",
       "      <td>0</td>\n",
       "      <td>0</td>\n",
       "      <td>0</td>\n",
       "      <td>0</td>\n",
       "      <td>0</td>\n",
       "      <td>0</td>\n",
       "      <td>0</td>\n",
       "      <td>0</td>\n",
       "      <td>0</td>\n",
       "      <td>1</td>\n",
       "    </tr>\n",
       "    <tr>\n",
       "      <th>3</th>\n",
       "      <td>0</td>\n",
       "      <td>0</td>\n",
       "      <td>0</td>\n",
       "      <td>0</td>\n",
       "      <td>0</td>\n",
       "      <td>0</td>\n",
       "      <td>-1</td>\n",
       "      <td>1</td>\n",
       "      <td>0</td>\n",
       "      <td>0</td>\n",
       "      <td>0</td>\n",
       "      <td>0</td>\n",
       "      <td>0</td>\n",
       "      <td>0</td>\n",
       "      <td>0</td>\n",
       "      <td>0</td>\n",
       "      <td>0</td>\n",
       "      <td>0</td>\n",
       "      <td>0</td>\n",
       "      <td>0</td>\n",
       "      <td>0</td>\n",
       "      <td>0</td>\n",
       "      <td>0</td>\n",
       "      <td>0</td>\n",
       "      <td>0</td>\n",
       "      <td>0</td>\n",
       "      <td>0</td>\n",
       "      <td>0</td>\n",
       "      <td>0</td>\n",
       "      <td>0</td>\n",
       "      <td>0</td>\n",
       "      <td>0</td>\n",
       "      <td>1</td>\n",
       "    </tr>\n",
       "    <tr>\n",
       "      <th>4</th>\n",
       "      <td>0</td>\n",
       "      <td>0</td>\n",
       "      <td>0</td>\n",
       "      <td>0</td>\n",
       "      <td>0</td>\n",
       "      <td>0</td>\n",
       "      <td>0</td>\n",
       "      <td>0</td>\n",
       "      <td>0</td>\n",
       "      <td>0</td>\n",
       "      <td>0</td>\n",
       "      <td>0</td>\n",
       "      <td>0</td>\n",
       "      <td>1</td>\n",
       "      <td>-1</td>\n",
       "      <td>0</td>\n",
       "      <td>0</td>\n",
       "      <td>0</td>\n",
       "      <td>0</td>\n",
       "      <td>0</td>\n",
       "      <td>0</td>\n",
       "      <td>0</td>\n",
       "      <td>0</td>\n",
       "      <td>0</td>\n",
       "      <td>0</td>\n",
       "      <td>0</td>\n",
       "      <td>0</td>\n",
       "      <td>0</td>\n",
       "      <td>0</td>\n",
       "      <td>0</td>\n",
       "      <td>0</td>\n",
       "      <td>0</td>\n",
       "      <td>1</td>\n",
       "    </tr>\n",
       "  </tbody>\n",
       "</table>\n",
       "</div>"
      ],
      "text/plain": [
       "   ARI  ATL  BAL  BUF  CAR  CHI  CIN  CLE  DAL  DEN  DET  GB  HOU  IND  JAX   \n",
       "0    0    0    0    0    0    0    0    0    0    0   -1   0    0    0    0  \\\n",
       "1    0    1    0    0   -1    0    0    0    0    0    0   0    0    0    0   \n",
       "2    0    0    1    0    0    0    0    0    0    0    0   0   -1    0    0   \n",
       "3    0    0    0    0    0    0   -1    1    0    0    0   0    0    0    0   \n",
       "4    0    0    0    0    0    0    0    0    0    0    0   0    0    1   -1   \n",
       "\n",
       "   KC  LA  LAC  LV  MIA  MIN  NE  NO  NYG  NYJ  PHI  PIT  SEA  SF  TB  TEN   \n",
       "0   1   0    0   0    0    0   0   0    0    0    0    0    0   0   0    0  \\\n",
       "1   0   0    0   0    0    0   0   0    0    0    0    0    0   0   0    0   \n",
       "2   0   0    0   0    0    0   0   0    0    0    0    0    0   0   0    0   \n",
       "3   0   0    0   0    0    0   0   0    0    0    0    0    0   0   0    0   \n",
       "4   0   0    0   0    0    0   0   0    0    0    0    0    0   0   0    0   \n",
       "\n",
       "   WAS  HFA  \n",
       "0    0    1  \n",
       "1    0    1  \n",
       "2    0    1  \n",
       "3    0    1  \n",
       "4    0    1  "
      ]
     },
     "execution_count": 43,
     "metadata": {},
     "output_type": "execute_result"
    }
   ],
   "source": [
    "coefs.head()"
   ]
  },
  {
   "cell_type": "markdown",
   "metadata": {},
   "source": [
    "Again, as in the [Introduction notebook](intro), we want a home-field advantage factor for almost all the rows, with the only exceptions being the rows corresponding to the 5 games being played at a neutral location."
   ]
  },
  {
   "cell_type": "code",
   "execution_count": 44,
   "metadata": {},
   "outputs": [],
   "source": [
    "coefs[\"HFA\"] = (~df[\"neutral\"]).astype(int)"
   ]
  },
  {
   "cell_type": "markdown",
   "metadata": {},
   "source": [
    "Here are some reality checks."
   ]
  },
  {
   "cell_type": "markdown",
   "metadata": {},
   "source": [
    "* There are 272 games in the regular season, and 32 teams (plus one column for home-field advantage)."
   ]
  },
  {
   "cell_type": "code",
   "execution_count": 45,
   "metadata": {},
   "outputs": [
    {
     "data": {
      "text/plain": [
       "(272, 33)"
      ]
     },
     "execution_count": 45,
     "metadata": {},
     "output_type": "execute_result"
    }
   ],
   "source": [
    "coefs.shape"
   ]
  },
  {
   "cell_type": "markdown",
   "metadata": {},
   "source": [
    "* NFC teams have 8 home games and 9 road games.  This corresponds to the \"ARI\" column containing 8 values of `1`, containing 9 values of `-1`, and many values of `0`.  (There is a `0` for each game that does not involve Arizona.)"
   ]
  },
  {
   "cell_type": "code",
   "execution_count": 46,
   "metadata": {},
   "outputs": [
    {
     "data": {
      "text/plain": [
       "ARI\n",
       " 0    255\n",
       "-1      9\n",
       " 1      8\n",
       "Name: count, dtype: int64"
      ]
     },
     "execution_count": 46,
     "metadata": {},
     "output_type": "execute_result"
    }
   ],
   "source": [
    "coefs[\"ARI\"].value_counts()"
   ]
  },
  {
   "cell_type": "markdown",
   "metadata": {},
   "source": [
    "* Five games are being played at neutral locations."
   ]
  },
  {
   "cell_type": "code",
   "execution_count": 47,
   "metadata": {},
   "outputs": [
    {
     "data": {
      "text/plain": [
       "HFA\n",
       "1    267\n",
       "0      5\n",
       "Name: count, dtype: int64"
      ]
     },
     "execution_count": 47,
     "metadata": {},
     "output_type": "execute_result"
    }
   ],
   "source": [
    "coefs[\"HFA\"].value_counts()"
   ]
  },
  {
   "cell_type": "markdown",
   "metadata": {},
   "source": [
    "## Finding the closest solution to these equations\n",
    "\n",
    "Again, we follow the method used in the [Introduction notebook](intro) to find the \"best\" solutions (in terms of Mean Squared Error) to the given 272 equations.  The main tool we use is the `LinearRegression` class defined by scikit-learn."
   ]
  },
  {
   "cell_type": "code",
   "execution_count": 19,
   "metadata": {
    "cell_id": "b94b53c463bc4883b49137e44c30475c",
    "deepnote_cell_type": "code",
    "deepnote_to_be_reexecuted": false,
    "execution_millis": 2006,
    "execution_start": 1685675599519,
    "source_hash": null
   },
   "outputs": [],
   "source": [
    "from sklearn.linear_model import LinearRegression"
   ]
  },
  {
   "cell_type": "markdown",
   "metadata": {},
   "source": [
    "Here we create an instance (\"instantiate\") a `LinearRegression` object.  We specify `fit_intercept=False`, because we don't want to allow an additive constant (what would that mean in the context of power ratings anyway?)."
   ]
  },
  {
   "cell_type": "code",
   "execution_count": 20,
   "metadata": {
    "cell_id": "b83fb72e82014242b3e4f0c89adcb7f0",
    "deepnote_cell_type": "code",
    "deepnote_to_be_reexecuted": false,
    "execution_millis": 25,
    "execution_start": 1685675601537,
    "source_hash": null
   },
   "outputs": [],
   "source": [
    "reg = LinearRegression(fit_intercept=False)"
   ]
  },
  {
   "cell_type": "markdown",
   "metadata": {},
   "source": [
    "The hard work is done by the `fit` method of `reg`.  We specify that the input variables are from the `coefs` DataFrame, and the desired outputs are in the \"spread_line\" column in `df`.\n",
    "\n",
    "```{caution}\n",
    "As mentioned in the [Introduction notebook](intro), there are potentially issues with the best fit solution not being uniquely determined.  (In fact, when I tried to do this same thing in R, it would not let me.)  A way to get around this would be to delete one of the team columns from our `coefs` DataFrame, which has the effect of forcing that team's power rating to be `0`.\n",
    "```"
   ]
  },
  {
   "cell_type": "code",
   "execution_count": 48,
   "metadata": {
    "cell_id": "4f2865afb66b410f9bdaf0eef56030cf",
    "deepnote_cell_type": "code",
    "deepnote_to_be_reexecuted": false,
    "execution_millis": 34,
    "execution_start": 1685675601789,
    "source_hash": null
   },
   "outputs": [
    {
     "data": {
      "text/html": [
       "<style>#sk-container-id-2 {color: black;background-color: white;}#sk-container-id-2 pre{padding: 0;}#sk-container-id-2 div.sk-toggleable {background-color: white;}#sk-container-id-2 label.sk-toggleable__label {cursor: pointer;display: block;width: 100%;margin-bottom: 0;padding: 0.3em;box-sizing: border-box;text-align: center;}#sk-container-id-2 label.sk-toggleable__label-arrow:before {content: \"▸\";float: left;margin-right: 0.25em;color: #696969;}#sk-container-id-2 label.sk-toggleable__label-arrow:hover:before {color: black;}#sk-container-id-2 div.sk-estimator:hover label.sk-toggleable__label-arrow:before {color: black;}#sk-container-id-2 div.sk-toggleable__content {max-height: 0;max-width: 0;overflow: hidden;text-align: left;background-color: #f0f8ff;}#sk-container-id-2 div.sk-toggleable__content pre {margin: 0.2em;color: black;border-radius: 0.25em;background-color: #f0f8ff;}#sk-container-id-2 input.sk-toggleable__control:checked~div.sk-toggleable__content {max-height: 200px;max-width: 100%;overflow: auto;}#sk-container-id-2 input.sk-toggleable__control:checked~label.sk-toggleable__label-arrow:before {content: \"▾\";}#sk-container-id-2 div.sk-estimator input.sk-toggleable__control:checked~label.sk-toggleable__label {background-color: #d4ebff;}#sk-container-id-2 div.sk-label input.sk-toggleable__control:checked~label.sk-toggleable__label {background-color: #d4ebff;}#sk-container-id-2 input.sk-hidden--visually {border: 0;clip: rect(1px 1px 1px 1px);clip: rect(1px, 1px, 1px, 1px);height: 1px;margin: -1px;overflow: hidden;padding: 0;position: absolute;width: 1px;}#sk-container-id-2 div.sk-estimator {font-family: monospace;background-color: #f0f8ff;border: 1px dotted black;border-radius: 0.25em;box-sizing: border-box;margin-bottom: 0.5em;}#sk-container-id-2 div.sk-estimator:hover {background-color: #d4ebff;}#sk-container-id-2 div.sk-parallel-item::after {content: \"\";width: 100%;border-bottom: 1px solid gray;flex-grow: 1;}#sk-container-id-2 div.sk-label:hover label.sk-toggleable__label {background-color: #d4ebff;}#sk-container-id-2 div.sk-serial::before {content: \"\";position: absolute;border-left: 1px solid gray;box-sizing: border-box;top: 0;bottom: 0;left: 50%;z-index: 0;}#sk-container-id-2 div.sk-serial {display: flex;flex-direction: column;align-items: center;background-color: white;padding-right: 0.2em;padding-left: 0.2em;position: relative;}#sk-container-id-2 div.sk-item {position: relative;z-index: 1;}#sk-container-id-2 div.sk-parallel {display: flex;align-items: stretch;justify-content: center;background-color: white;position: relative;}#sk-container-id-2 div.sk-item::before, #sk-container-id-2 div.sk-parallel-item::before {content: \"\";position: absolute;border-left: 1px solid gray;box-sizing: border-box;top: 0;bottom: 0;left: 50%;z-index: -1;}#sk-container-id-2 div.sk-parallel-item {display: flex;flex-direction: column;z-index: 1;position: relative;background-color: white;}#sk-container-id-2 div.sk-parallel-item:first-child::after {align-self: flex-end;width: 50%;}#sk-container-id-2 div.sk-parallel-item:last-child::after {align-self: flex-start;width: 50%;}#sk-container-id-2 div.sk-parallel-item:only-child::after {width: 0;}#sk-container-id-2 div.sk-dashed-wrapped {border: 1px dashed gray;margin: 0 0.4em 0.5em 0.4em;box-sizing: border-box;padding-bottom: 0.4em;background-color: white;}#sk-container-id-2 div.sk-label label {font-family: monospace;font-weight: bold;display: inline-block;line-height: 1.2em;}#sk-container-id-2 div.sk-label-container {text-align: center;}#sk-container-id-2 div.sk-container {/* jupyter's `normalize.less` sets `[hidden] { display: none; }` but bootstrap.min.css set `[hidden] { display: none !important; }` so we also need the `!important` here to be able to override the default hidden behavior on the sphinx rendered scikit-learn.org. See: https://github.com/scikit-learn/scikit-learn/issues/21755 */display: inline-block !important;position: relative;}#sk-container-id-2 div.sk-text-repr-fallback {display: none;}</style><div id=\"sk-container-id-2\" class=\"sk-top-container\"><div class=\"sk-text-repr-fallback\"><pre>LinearRegression(fit_intercept=False)</pre><b>In a Jupyter environment, please rerun this cell to show the HTML representation or trust the notebook. <br />On GitHub, the HTML representation is unable to render, please try loading this page with nbviewer.org.</b></div><div class=\"sk-container\" hidden><div class=\"sk-item\"><div class=\"sk-estimator sk-toggleable\"><input class=\"sk-toggleable__control sk-hidden--visually\" id=\"sk-estimator-id-2\" type=\"checkbox\" checked><label for=\"sk-estimator-id-2\" class=\"sk-toggleable__label sk-toggleable__label-arrow\">LinearRegression</label><div class=\"sk-toggleable__content\"><pre>LinearRegression(fit_intercept=False)</pre></div></div></div></div></div>"
      ],
      "text/plain": [
       "LinearRegression(fit_intercept=False)"
      ]
     },
     "execution_count": 48,
     "metadata": {},
     "output_type": "execute_result"
    }
   ],
   "source": [
    "reg.fit(coefs, df[\"spread_line\"])"
   ]
  },
  {
   "cell_type": "markdown",
   "metadata": {},
   "source": [
    "As in the [Introduction notebook](intro), the resulting values are stored in the newly defined `coef_` attribute of `reg`.  Putting these together in a pandas Series is a convenient way to include both the numerical values as well as the corresponding column names like \"HFA\" and \"KC\"."
   ]
  },
  {
   "cell_type": "code",
   "execution_count": 49,
   "metadata": {
    "cell_id": "b516e1165c894f6eb0923cf81bc06b2a",
    "deepnote_cell_type": "code",
    "deepnote_to_be_reexecuted": false,
    "execution_millis": 6,
    "execution_start": 1685675638559,
    "source_hash": null
   },
   "outputs": [],
   "source": [
    "ser = pd.Series(reg.coef_, index=coefs.columns)"
   ]
  },
  {
   "cell_type": "markdown",
   "metadata": {},
   "source": [
    "Here is how the pandas Series `ser` looks."
   ]
  },
  {
   "cell_type": "code",
   "execution_count": 50,
   "metadata": {},
   "outputs": [
    {
     "data": {
      "text/plain": [
       "ARI   -5.515579\n",
       "ATL   -2.205334\n",
       "BAL    2.118708\n",
       "BUF    4.444309\n",
       "CAR   -2.865624\n",
       "CHI   -1.913665\n",
       "CIN    3.594643\n",
       "CLE    0.658812\n",
       "DAL    2.862485\n",
       "DEN    0.551433\n",
       "DET    0.972427\n",
       "GB    -1.632132\n",
       "HOU   -4.681461\n",
       "IND   -4.112030\n",
       "JAX    0.955583\n",
       "KC     5.732833\n",
       "LA    -2.751637\n",
       "LAC    2.296995\n",
       "LV    -1.598324\n",
       "MIA    2.473332\n",
       "MIN    0.122250\n",
       "NE    -0.428057\n",
       "NO    -0.541405\n",
       "NYG   -0.725707\n",
       "NYJ    2.380826\n",
       "PHI    4.488439\n",
       "PIT    0.070543\n",
       "SEA    0.598628\n",
       "SF     3.343375\n",
       "TB    -4.058167\n",
       "TEN   -2.737334\n",
       "WAS   -1.899165\n",
       "HFA    1.486125\n",
       "dtype: float64"
      ]
     },
     "execution_count": 50,
     "metadata": {},
     "output_type": "execute_result"
    }
   ],
   "source": [
    "ser"
   ]
  },
  {
   "cell_type": "markdown",
   "metadata": {},
   "source": [
    "## Visualizing the power ratings\n",
    "\n",
    "Here is a quick example of using the Python library Altair to visualize these power ratings."
   ]
  },
  {
   "cell_type": "code",
   "execution_count": 35,
   "metadata": {},
   "outputs": [],
   "source": [
    "import altair as alt"
   ]
  },
  {
   "cell_type": "markdown",
   "metadata": {},
   "source": [
    "Here we turn the pandas Series `ser` into a two-column DataFrame, with one column containing the team and the other column containing the power rating \"PR\".  We're not adding any new data here; we're just putting the data into the pandas DataFrame format that Altair expects.  We do remove the \"HFA\" value, since visualizing it next to the team power ratings seems a little strange."
   ]
  },
  {
   "cell_type": "code",
   "execution_count": 31,
   "metadata": {},
   "outputs": [],
   "source": [
    "df_pr = ser.drop(\"HFA\").reset_index().rename({\"index\": \"Team\", 0: \"PR\"}, axis=1)"
   ]
  },
  {
   "cell_type": "code",
   "execution_count": 33,
   "metadata": {},
   "outputs": [
    {
     "data": {
      "text/html": [
       "<div>\n",
       "<style scoped>\n",
       "    .dataframe tbody tr th:only-of-type {\n",
       "        vertical-align: middle;\n",
       "    }\n",
       "\n",
       "    .dataframe tbody tr th {\n",
       "        vertical-align: top;\n",
       "    }\n",
       "\n",
       "    .dataframe thead th {\n",
       "        text-align: right;\n",
       "    }\n",
       "</style>\n",
       "<table border=\"1\" class=\"dataframe\">\n",
       "  <thead>\n",
       "    <tr style=\"text-align: right;\">\n",
       "      <th></th>\n",
       "      <th>Team</th>\n",
       "      <th>PR</th>\n",
       "    </tr>\n",
       "  </thead>\n",
       "  <tbody>\n",
       "    <tr>\n",
       "      <th>0</th>\n",
       "      <td>ARI</td>\n",
       "      <td>-5.515579</td>\n",
       "    </tr>\n",
       "    <tr>\n",
       "      <th>1</th>\n",
       "      <td>ATL</td>\n",
       "      <td>-2.205334</td>\n",
       "    </tr>\n",
       "    <tr>\n",
       "      <th>2</th>\n",
       "      <td>BAL</td>\n",
       "      <td>2.118708</td>\n",
       "    </tr>\n",
       "    <tr>\n",
       "      <th>3</th>\n",
       "      <td>BUF</td>\n",
       "      <td>4.444309</td>\n",
       "    </tr>\n",
       "    <tr>\n",
       "      <th>4</th>\n",
       "      <td>CAR</td>\n",
       "      <td>-2.865624</td>\n",
       "    </tr>\n",
       "    <tr>\n",
       "      <th>5</th>\n",
       "      <td>CHI</td>\n",
       "      <td>-1.913665</td>\n",
       "    </tr>\n",
       "    <tr>\n",
       "      <th>6</th>\n",
       "      <td>CIN</td>\n",
       "      <td>3.594643</td>\n",
       "    </tr>\n",
       "    <tr>\n",
       "      <th>7</th>\n",
       "      <td>CLE</td>\n",
       "      <td>0.658812</td>\n",
       "    </tr>\n",
       "    <tr>\n",
       "      <th>8</th>\n",
       "      <td>DAL</td>\n",
       "      <td>2.862485</td>\n",
       "    </tr>\n",
       "    <tr>\n",
       "      <th>9</th>\n",
       "      <td>DEN</td>\n",
       "      <td>0.551433</td>\n",
       "    </tr>\n",
       "    <tr>\n",
       "      <th>10</th>\n",
       "      <td>DET</td>\n",
       "      <td>0.972427</td>\n",
       "    </tr>\n",
       "    <tr>\n",
       "      <th>11</th>\n",
       "      <td>GB</td>\n",
       "      <td>-1.632132</td>\n",
       "    </tr>\n",
       "    <tr>\n",
       "      <th>12</th>\n",
       "      <td>HOU</td>\n",
       "      <td>-4.681461</td>\n",
       "    </tr>\n",
       "    <tr>\n",
       "      <th>13</th>\n",
       "      <td>IND</td>\n",
       "      <td>-4.112030</td>\n",
       "    </tr>\n",
       "    <tr>\n",
       "      <th>14</th>\n",
       "      <td>JAX</td>\n",
       "      <td>0.955583</td>\n",
       "    </tr>\n",
       "    <tr>\n",
       "      <th>15</th>\n",
       "      <td>KC</td>\n",
       "      <td>5.732833</td>\n",
       "    </tr>\n",
       "    <tr>\n",
       "      <th>16</th>\n",
       "      <td>LA</td>\n",
       "      <td>-2.751637</td>\n",
       "    </tr>\n",
       "    <tr>\n",
       "      <th>17</th>\n",
       "      <td>LAC</td>\n",
       "      <td>2.296995</td>\n",
       "    </tr>\n",
       "    <tr>\n",
       "      <th>18</th>\n",
       "      <td>LV</td>\n",
       "      <td>-1.598324</td>\n",
       "    </tr>\n",
       "    <tr>\n",
       "      <th>19</th>\n",
       "      <td>MIA</td>\n",
       "      <td>2.473332</td>\n",
       "    </tr>\n",
       "    <tr>\n",
       "      <th>20</th>\n",
       "      <td>MIN</td>\n",
       "      <td>0.122250</td>\n",
       "    </tr>\n",
       "    <tr>\n",
       "      <th>21</th>\n",
       "      <td>NE</td>\n",
       "      <td>-0.428057</td>\n",
       "    </tr>\n",
       "    <tr>\n",
       "      <th>22</th>\n",
       "      <td>NO</td>\n",
       "      <td>-0.541405</td>\n",
       "    </tr>\n",
       "    <tr>\n",
       "      <th>23</th>\n",
       "      <td>NYG</td>\n",
       "      <td>-0.725707</td>\n",
       "    </tr>\n",
       "    <tr>\n",
       "      <th>24</th>\n",
       "      <td>NYJ</td>\n",
       "      <td>2.380826</td>\n",
       "    </tr>\n",
       "    <tr>\n",
       "      <th>25</th>\n",
       "      <td>PHI</td>\n",
       "      <td>4.488439</td>\n",
       "    </tr>\n",
       "    <tr>\n",
       "      <th>26</th>\n",
       "      <td>PIT</td>\n",
       "      <td>0.070543</td>\n",
       "    </tr>\n",
       "    <tr>\n",
       "      <th>27</th>\n",
       "      <td>SEA</td>\n",
       "      <td>0.598628</td>\n",
       "    </tr>\n",
       "    <tr>\n",
       "      <th>28</th>\n",
       "      <td>SF</td>\n",
       "      <td>3.343375</td>\n",
       "    </tr>\n",
       "    <tr>\n",
       "      <th>29</th>\n",
       "      <td>TB</td>\n",
       "      <td>-4.058167</td>\n",
       "    </tr>\n",
       "    <tr>\n",
       "      <th>30</th>\n",
       "      <td>TEN</td>\n",
       "      <td>-2.737334</td>\n",
       "    </tr>\n",
       "    <tr>\n",
       "      <th>31</th>\n",
       "      <td>WAS</td>\n",
       "      <td>-1.899165</td>\n",
       "    </tr>\n",
       "  </tbody>\n",
       "</table>\n",
       "</div>"
      ],
      "text/plain": [
       "   Team        PR\n",
       "0   ARI -5.515579\n",
       "1   ATL -2.205334\n",
       "2   BAL  2.118708\n",
       "3   BUF  4.444309\n",
       "4   CAR -2.865624\n",
       "5   CHI -1.913665\n",
       "6   CIN  3.594643\n",
       "7   CLE  0.658812\n",
       "8   DAL  2.862485\n",
       "9   DEN  0.551433\n",
       "10  DET  0.972427\n",
       "11   GB -1.632132\n",
       "12  HOU -4.681461\n",
       "13  IND -4.112030\n",
       "14  JAX  0.955583\n",
       "15   KC  5.732833\n",
       "16   LA -2.751637\n",
       "17  LAC  2.296995\n",
       "18   LV -1.598324\n",
       "19  MIA  2.473332\n",
       "20  MIN  0.122250\n",
       "21   NE -0.428057\n",
       "22   NO -0.541405\n",
       "23  NYG -0.725707\n",
       "24  NYJ  2.380826\n",
       "25  PHI  4.488439\n",
       "26  PIT  0.070543\n",
       "27  SEA  0.598628\n",
       "28   SF  3.343375\n",
       "29   TB -4.058167\n",
       "30  TEN -2.737334\n",
       "31  WAS -1.899165"
      ]
     },
     "execution_count": 33,
     "metadata": {},
     "output_type": "execute_result"
    }
   ],
   "source": [
    "df_pr"
   ]
  },
  {
   "cell_type": "markdown",
   "metadata": {},
   "source": [
    "Here we make a bar chart of the data.  We tell Altair that the team name should go along the x-axis and the Power Rating value should determine the heights of the bars.  The only customization we do is changing from the default color scheme to \"tealblues\".  (See [here](https://vega.github.io/vega/docs/schemes/) for other color scheme options.)"
   ]
  },
  {
   "cell_type": "code",
   "execution_count": 36,
   "metadata": {},
   "outputs": [
    {
     "data": {
      "text/html": [
       "\n",
       "<style>\n",
       "  #altair-viz-7b4a6c7cf42c45afab817bb9ad037b45.vega-embed {\n",
       "    width: 100%;\n",
       "    display: flex;\n",
       "  }\n",
       "\n",
       "  #altair-viz-7b4a6c7cf42c45afab817bb9ad037b45.vega-embed details,\n",
       "  #altair-viz-7b4a6c7cf42c45afab817bb9ad037b45.vega-embed details summary {\n",
       "    position: relative;\n",
       "  }\n",
       "</style>\n",
       "<div id=\"altair-viz-7b4a6c7cf42c45afab817bb9ad037b45\"></div>\n",
       "<script type=\"text/javascript\">\n",
       "  var VEGA_DEBUG = (typeof VEGA_DEBUG == \"undefined\") ? {} : VEGA_DEBUG;\n",
       "  (function(spec, embedOpt){\n",
       "    let outputDiv = document.currentScript.previousElementSibling;\n",
       "    if (outputDiv.id !== \"altair-viz-7b4a6c7cf42c45afab817bb9ad037b45\") {\n",
       "      outputDiv = document.getElementById(\"altair-viz-7b4a6c7cf42c45afab817bb9ad037b45\");\n",
       "    }\n",
       "    const paths = {\n",
       "      \"vega\": \"https://cdn.jsdelivr.net/npm/vega@5?noext\",\n",
       "      \"vega-lib\": \"https://cdn.jsdelivr.net/npm/vega-lib?noext\",\n",
       "      \"vega-lite\": \"https://cdn.jsdelivr.net/npm/vega-lite@5.8.0?noext\",\n",
       "      \"vega-embed\": \"https://cdn.jsdelivr.net/npm/vega-embed@6?noext\",\n",
       "    };\n",
       "\n",
       "    function maybeLoadScript(lib, version) {\n",
       "      var key = `${lib.replace(\"-\", \"\")}_version`;\n",
       "      return (VEGA_DEBUG[key] == version) ?\n",
       "        Promise.resolve(paths[lib]) :\n",
       "        new Promise(function(resolve, reject) {\n",
       "          var s = document.createElement('script');\n",
       "          document.getElementsByTagName(\"head\")[0].appendChild(s);\n",
       "          s.async = true;\n",
       "          s.onload = () => {\n",
       "            VEGA_DEBUG[key] = version;\n",
       "            return resolve(paths[lib]);\n",
       "          };\n",
       "          s.onerror = () => reject(`Error loading script: ${paths[lib]}`);\n",
       "          s.src = paths[lib];\n",
       "        });\n",
       "    }\n",
       "\n",
       "    function showError(err) {\n",
       "      outputDiv.innerHTML = `<div class=\"error\" style=\"color:red;\">${err}</div>`;\n",
       "      throw err;\n",
       "    }\n",
       "\n",
       "    function displayChart(vegaEmbed) {\n",
       "      vegaEmbed(outputDiv, spec, embedOpt)\n",
       "        .catch(err => showError(`Javascript Error: ${err.message}<br>This usually means there's a typo in your chart specification. See the javascript console for the full traceback.`));\n",
       "    }\n",
       "\n",
       "    if(typeof define === \"function\" && define.amd) {\n",
       "      requirejs.config({paths});\n",
       "      require([\"vega-embed\"], displayChart, err => showError(`Error loading script: ${err.message}`));\n",
       "    } else {\n",
       "      maybeLoadScript(\"vega\", \"5\")\n",
       "        .then(() => maybeLoadScript(\"vega-lite\", \"5.8.0\"))\n",
       "        .then(() => maybeLoadScript(\"vega-embed\", \"6\"))\n",
       "        .catch(showError)\n",
       "        .then(() => displayChart(vegaEmbed));\n",
       "    }\n",
       "  })({\"config\": {\"view\": {\"continuousWidth\": 300, \"continuousHeight\": 300}}, \"data\": {\"name\": \"data-019015f98f9541a963bbf37ccc451030\"}, \"mark\": {\"type\": \"bar\"}, \"encoding\": {\"color\": {\"field\": \"PR\", \"scale\": {\"scheme\": \"tealblues\"}, \"type\": \"quantitative\"}, \"x\": {\"field\": \"Team\", \"type\": \"nominal\"}, \"y\": {\"field\": \"PR\", \"type\": \"quantitative\"}}, \"$schema\": \"https://vega.github.io/schema/vega-lite/v5.8.0.json\", \"datasets\": {\"data-019015f98f9541a963bbf37ccc451030\": [{\"Team\": \"ARI\", \"PR\": -5.515579122154293}, {\"Team\": \"ATL\", \"PR\": -2.205333648612865}, {\"Team\": \"BAL\", \"PR\": 2.1187084899022883}, {\"Team\": \"BUF\", \"PR\": 4.44430889722658}, {\"Team\": \"CAR\", \"PR\": -2.865623730795367}, {\"Team\": \"CHI\", \"PR\": -1.9136653389433924}, {\"Team\": \"CIN\", \"PR\": 3.5946434139233694}, {\"Team\": \"CLE\", \"PR\": 0.6588119392798714}, {\"Team\": \"DAL\", \"PR\": 2.8624854496639442}, {\"Team\": \"DEN\", \"PR\": 0.5514328111784748}, {\"Team\": \"DET\", \"PR\": 0.9724269795870105}, {\"Team\": \"GB\", \"PR\": -1.6321321260268673}, {\"Team\": \"HOU\", \"PR\": -4.681460584225195}, {\"Team\": \"IND\", \"PR\": -4.112030260890483}, {\"Team\": \"JAX\", \"PR\": 0.9555834558868168}, {\"Team\": \"KC\", \"PR\": 5.732833080617604}, {\"Team\": \"LA\", \"PR\": -2.7516374354432287}, {\"Team\": \"LAC\", \"PR\": 2.296994578308505}, {\"Team\": \"LV\", \"PR\": -1.598324047661651}, {\"Team\": \"MIA\", \"PR\": 2.473332057431676}, {\"Team\": \"MIN\", \"PR\": 0.12224991342756998}, {\"Team\": \"NE\", \"PR\": -0.4280570032452608}, {\"Team\": \"NO\", \"PR\": -0.5414051373540008}, {\"Team\": \"NYG\", \"PR\": -0.7257071365540871}, {\"Team\": \"NYJ\", \"PR\": 2.3808264008102538}, {\"Team\": \"PHI\", \"PR\": 4.488439036770839}, {\"Team\": \"PIT\", \"PR\": 0.07054314717570793}, {\"Team\": \"SEA\", \"PR\": 0.5986276422757708}, {\"Team\": \"SF\", \"PR\": 3.3433748741184446}, {\"Team\": \"TB\", \"PR\": -4.058167011914081}, {\"Team\": \"TEN\", \"PR\": -2.737334296402166}, {\"Team\": \"WAS\", \"PR\": -1.8991652873612042}]}}, {\"mode\": \"vega-lite\"});\n",
       "</script>"
      ],
      "text/plain": [
       "alt.Chart(...)"
      ]
     },
     "execution_count": 36,
     "metadata": {},
     "output_type": "execute_result"
    }
   ],
   "source": [
    "alt.Chart(df_pr).mark_bar().encode(\n",
    "    x = \"Team\",\n",
    "    y = \"PR\",\n",
    "    color = alt.Color(\"PR\").scale(scheme=\"tealblues\")\n",
    ")"
   ]
  },
  {
   "cell_type": "markdown",
   "metadata": {},
   "source": [
    "Here is one more example.  We we sort the bars from biggest power rating to smallest.  We also add a tooltip, so that if you hover your mouse over one of the bars, it will indicate the team and the power rating."
   ]
  },
  {
   "cell_type": "code",
   "execution_count": 41,
   "metadata": {},
   "outputs": [
    {
     "data": {
      "text/html": [
       "\n",
       "<style>\n",
       "  #altair-viz-9a332edc78ac4a669f0af5d1ad299b2c.vega-embed {\n",
       "    width: 100%;\n",
       "    display: flex;\n",
       "  }\n",
       "\n",
       "  #altair-viz-9a332edc78ac4a669f0af5d1ad299b2c.vega-embed details,\n",
       "  #altair-viz-9a332edc78ac4a669f0af5d1ad299b2c.vega-embed details summary {\n",
       "    position: relative;\n",
       "  }\n",
       "</style>\n",
       "<div id=\"altair-viz-9a332edc78ac4a669f0af5d1ad299b2c\"></div>\n",
       "<script type=\"text/javascript\">\n",
       "  var VEGA_DEBUG = (typeof VEGA_DEBUG == \"undefined\") ? {} : VEGA_DEBUG;\n",
       "  (function(spec, embedOpt){\n",
       "    let outputDiv = document.currentScript.previousElementSibling;\n",
       "    if (outputDiv.id !== \"altair-viz-9a332edc78ac4a669f0af5d1ad299b2c\") {\n",
       "      outputDiv = document.getElementById(\"altair-viz-9a332edc78ac4a669f0af5d1ad299b2c\");\n",
       "    }\n",
       "    const paths = {\n",
       "      \"vega\": \"https://cdn.jsdelivr.net/npm/vega@5?noext\",\n",
       "      \"vega-lib\": \"https://cdn.jsdelivr.net/npm/vega-lib?noext\",\n",
       "      \"vega-lite\": \"https://cdn.jsdelivr.net/npm/vega-lite@5.8.0?noext\",\n",
       "      \"vega-embed\": \"https://cdn.jsdelivr.net/npm/vega-embed@6?noext\",\n",
       "    };\n",
       "\n",
       "    function maybeLoadScript(lib, version) {\n",
       "      var key = `${lib.replace(\"-\", \"\")}_version`;\n",
       "      return (VEGA_DEBUG[key] == version) ?\n",
       "        Promise.resolve(paths[lib]) :\n",
       "        new Promise(function(resolve, reject) {\n",
       "          var s = document.createElement('script');\n",
       "          document.getElementsByTagName(\"head\")[0].appendChild(s);\n",
       "          s.async = true;\n",
       "          s.onload = () => {\n",
       "            VEGA_DEBUG[key] = version;\n",
       "            return resolve(paths[lib]);\n",
       "          };\n",
       "          s.onerror = () => reject(`Error loading script: ${paths[lib]}`);\n",
       "          s.src = paths[lib];\n",
       "        });\n",
       "    }\n",
       "\n",
       "    function showError(err) {\n",
       "      outputDiv.innerHTML = `<div class=\"error\" style=\"color:red;\">${err}</div>`;\n",
       "      throw err;\n",
       "    }\n",
       "\n",
       "    function displayChart(vegaEmbed) {\n",
       "      vegaEmbed(outputDiv, spec, embedOpt)\n",
       "        .catch(err => showError(`Javascript Error: ${err.message}<br>This usually means there's a typo in your chart specification. See the javascript console for the full traceback.`));\n",
       "    }\n",
       "\n",
       "    if(typeof define === \"function\" && define.amd) {\n",
       "      requirejs.config({paths});\n",
       "      require([\"vega-embed\"], displayChart, err => showError(`Error loading script: ${err.message}`));\n",
       "    } else {\n",
       "      maybeLoadScript(\"vega\", \"5\")\n",
       "        .then(() => maybeLoadScript(\"vega-lite\", \"5.8.0\"))\n",
       "        .then(() => maybeLoadScript(\"vega-embed\", \"6\"))\n",
       "        .catch(showError)\n",
       "        .then(() => displayChart(vegaEmbed));\n",
       "    }\n",
       "  })({\"config\": {\"view\": {\"continuousWidth\": 300, \"continuousHeight\": 300}}, \"data\": {\"name\": \"data-019015f98f9541a963bbf37ccc451030\"}, \"mark\": {\"type\": \"bar\"}, \"encoding\": {\"color\": {\"field\": \"PR\", \"scale\": {\"scheme\": \"tealblues\"}, \"type\": \"quantitative\"}, \"tooltip\": [{\"field\": \"Team\", \"type\": \"nominal\"}, {\"field\": \"PR\", \"type\": \"quantitative\"}], \"x\": {\"field\": \"Team\", \"sort\": \"-y\", \"type\": \"nominal\"}, \"y\": {\"field\": \"PR\", \"type\": \"quantitative\"}}, \"$schema\": \"https://vega.github.io/schema/vega-lite/v5.8.0.json\", \"datasets\": {\"data-019015f98f9541a963bbf37ccc451030\": [{\"Team\": \"ARI\", \"PR\": -5.515579122154293}, {\"Team\": \"ATL\", \"PR\": -2.205333648612865}, {\"Team\": \"BAL\", \"PR\": 2.1187084899022883}, {\"Team\": \"BUF\", \"PR\": 4.44430889722658}, {\"Team\": \"CAR\", \"PR\": -2.865623730795367}, {\"Team\": \"CHI\", \"PR\": -1.9136653389433924}, {\"Team\": \"CIN\", \"PR\": 3.5946434139233694}, {\"Team\": \"CLE\", \"PR\": 0.6588119392798714}, {\"Team\": \"DAL\", \"PR\": 2.8624854496639442}, {\"Team\": \"DEN\", \"PR\": 0.5514328111784748}, {\"Team\": \"DET\", \"PR\": 0.9724269795870105}, {\"Team\": \"GB\", \"PR\": -1.6321321260268673}, {\"Team\": \"HOU\", \"PR\": -4.681460584225195}, {\"Team\": \"IND\", \"PR\": -4.112030260890483}, {\"Team\": \"JAX\", \"PR\": 0.9555834558868168}, {\"Team\": \"KC\", \"PR\": 5.732833080617604}, {\"Team\": \"LA\", \"PR\": -2.7516374354432287}, {\"Team\": \"LAC\", \"PR\": 2.296994578308505}, {\"Team\": \"LV\", \"PR\": -1.598324047661651}, {\"Team\": \"MIA\", \"PR\": 2.473332057431676}, {\"Team\": \"MIN\", \"PR\": 0.12224991342756998}, {\"Team\": \"NE\", \"PR\": -0.4280570032452608}, {\"Team\": \"NO\", \"PR\": -0.5414051373540008}, {\"Team\": \"NYG\", \"PR\": -0.7257071365540871}, {\"Team\": \"NYJ\", \"PR\": 2.3808264008102538}, {\"Team\": \"PHI\", \"PR\": 4.488439036770839}, {\"Team\": \"PIT\", \"PR\": 0.07054314717570793}, {\"Team\": \"SEA\", \"PR\": 0.5986276422757708}, {\"Team\": \"SF\", \"PR\": 3.3433748741184446}, {\"Team\": \"TB\", \"PR\": -4.058167011914081}, {\"Team\": \"TEN\", \"PR\": -2.737334296402166}, {\"Team\": \"WAS\", \"PR\": -1.8991652873612042}]}}, {\"mode\": \"vega-lite\"});\n",
       "</script>"
      ],
      "text/plain": [
       "alt.Chart(...)"
      ]
     },
     "execution_count": 41,
     "metadata": {},
     "output_type": "execute_result"
    }
   ],
   "source": [
    "alt.Chart(df_pr).mark_bar().encode(\n",
    "    x = alt.X(\"Team\").sort(\"-y\"),\n",
    "    y = \"PR\",\n",
    "    color = alt.Color(\"PR\").scale(scheme=\"tealblues\"),\n",
    "    tooltip = [\"Team\", \"PR\"]\n",
    ")"
   ]
  }
 ],
 "metadata": {
  "deepnote": {},
  "deepnote_execution_queue": [],
  "deepnote_notebook_id": "0b7dc4cae1bf4a128513ca329e7fa149",
  "deepnote_persisted_session": {
   "createdAt": "2023-06-02T03:45:19.621Z"
  },
  "kernelspec": {
   "display_name": "Python 3 (ipykernel)",
   "language": "python",
   "name": "python3"
  },
  "language_info": {
   "codemirror_mode": {
    "name": "ipython",
    "version": 3
   },
   "file_extension": ".py",
   "mimetype": "text/x-python",
   "name": "python",
   "nbconvert_exporter": "python",
   "pygments_lexer": "ipython3",
   "version": "3.10.0"
  }
 },
 "nbformat": 4,
 "nbformat_minor": 4
}
